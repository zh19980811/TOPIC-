{
  "nbformat": 4,
  "nbformat_minor": 0,
  "metadata": {
    "colab": {
      "provenance": [],
      "authorship_tag": "ABX9TyOH+6CPuzPqjJC5VvNC/hq/",
      "include_colab_link": true
    },
    "kernelspec": {
      "name": "python3",
      "display_name": "Python 3"
    },
    "language_info": {
      "name": "python"
    }
  },
  "cells": [
    {
      "cell_type": "markdown",
      "metadata": {
        "id": "view-in-github",
        "colab_type": "text"
      },
      "source": [
        "<a href=\"https://colab.research.google.com/github/zh19980811/TOPIC-/blob/main/%E7%94%A8%E5%A4%9A%E7%A7%8D%E6%96%B9%E5%BC%8F%E7%94%9F%E6%88%90%E4%BB%A3%E7%A0%81.ipynb\" target=\"_parent\"><img src=\"https://colab.research.google.com/assets/colab-badge.svg\" alt=\"Open In Colab\"/></a>"
      ]
    },
    {
      "cell_type": "markdown",
      "source": [
        "Experiment 1:Hello world"
      ],
      "metadata": {
        "id": "z8vUOB0iigqX"
      }
    },
    {
      "cell_type": "markdown",
      "source": [
        "1. Direct printing of strings"
      ],
      "metadata": {
        "id": "rf_wOtU6joVa"
      }
    },
    {
      "cell_type": "code",
      "execution_count": 1,
      "metadata": {
        "colab": {
          "base_uri": "https://localhost:8080/"
        },
        "id": "hLKn50eHiSmZ",
        "outputId": "2bae8e9b-1682-4093-ede5-11cd8fdcfb5b"
      },
      "outputs": [
        {
          "output_type": "stream",
          "name": "stdout",
          "text": [
            "Hello, World!\n"
          ]
        }
      ],
      "source": [
        "print(\"Hello, World!\")"
      ]
    },
    {
      "cell_type": "markdown",
      "source": [
        "2. Use of variables"
      ],
      "metadata": {
        "id": "RhuO-b9RjvkE"
      }
    },
    {
      "cell_type": "code",
      "source": [
        "message = \"Hello, World!\"\n",
        "print(message)"
      ],
      "metadata": {
        "colab": {
          "base_uri": "https://localhost:8080/"
        },
        "id": "iOklgKAkjRwS",
        "outputId": "29c54645-d656-4255-8266-56e17d746bb0"
      },
      "execution_count": 2,
      "outputs": [
        {
          "output_type": "stream",
          "name": "stdout",
          "text": [
            "Hello, World!\n"
          ]
        }
      ]
    },
    {
      "cell_type": "markdown",
      "source": [
        "3.function"
      ],
      "metadata": {
        "id": "sh-x9qDDj8Ke"
      }
    },
    {
      "cell_type": "code",
      "source": [
        "def print_hello_world():\n",
        "    print(\"Hello, World!\")\n",
        "print_hello_world()"
      ],
      "metadata": {
        "colab": {
          "base_uri": "https://localhost:8080/"
        },
        "id": "-u_iRYQVjUG5",
        "outputId": "635a9ffd-9987-4948-c64e-7df2fc12cf3c"
      },
      "execution_count": 3,
      "outputs": [
        {
          "output_type": "stream",
          "name": "stdout",
          "text": [
            "Hello, World!\n"
          ]
        }
      ]
    },
    {
      "cell_type": "markdown",
      "source": [
        "4.class"
      ],
      "metadata": {
        "id": "LZA86Iiij4PO"
      }
    },
    {
      "cell_type": "code",
      "source": [
        "class HelloWorld:\n",
        "    def print_message(self):\n",
        "        print(\"Hello, World!\")\n",
        "\n",
        "hw = HelloWorld()\n",
        "hw.print_message()"
      ],
      "metadata": {
        "colab": {
          "base_uri": "https://localhost:8080/"
        },
        "id": "Uhb5GlcCjWch",
        "outputId": "a18b3b00-f966-4e66-8280-c1b65e17a045"
      },
      "execution_count": 4,
      "outputs": [
        {
          "output_type": "stream",
          "name": "stdout",
          "text": [
            "Hello, World!\n"
          ]
        }
      ]
    },
    {
      "cell_type": "markdown",
      "source": [
        "5.字符串转换"
      ],
      "metadata": {
        "id": "mT7QudYbkJ9H"
      }
    },
    {
      "cell_type": "code",
      "source": [
        "template = \"{} {}!\"\n",
        "print(template.format(\"Hello\", \"World\"))"
      ],
      "metadata": {
        "colab": {
          "base_uri": "https://localhost:8080/"
        },
        "id": "1Mk75HwojasT",
        "outputId": "e7c1c874-5c12-422e-b722-1c8e4702f12d"
      },
      "execution_count": 5,
      "outputs": [
        {
          "output_type": "stream",
          "name": "stdout",
          "text": [
            "Hello World!\n"
          ]
        }
      ]
    },
    {
      "cell_type": "markdown",
      "source": [
        "6. f-strings (Python 3.6+)"
      ],
      "metadata": {
        "id": "1PIgN8JakRy7"
      }
    },
    {
      "cell_type": "code",
      "source": [
        "name = \"World\"\n",
        "print(f\"Hello, {name}!\")"
      ],
      "metadata": {
        "colab": {
          "base_uri": "https://localhost:8080/"
        },
        "id": "xVLMAU4Tjlfw",
        "outputId": "64c06a67-88d9-43cc-923e-5c2acde1a095"
      },
      "execution_count": 6,
      "outputs": [
        {
          "output_type": "stream",
          "name": "stdout",
          "text": [
            "Hello, World!\n"
          ]
        }
      ]
    },
    {
      "cell_type": "markdown",
      "source": [
        "7. 使用join"
      ],
      "metadata": {
        "id": "wmtVUWTkkTot"
      }
    },
    {
      "cell_type": "code",
      "source": [
        "words = ['Hello', 'World!']\n",
        "print(' '.join(words))"
      ],
      "metadata": {
        "colab": {
          "base_uri": "https://localhost:8080/"
        },
        "id": "eTcrlyZkkYne",
        "outputId": "cc10baa2-3fce-477e-a9b3-f7c41864aba2"
      },
      "execution_count": 7,
      "outputs": [
        {
          "output_type": "stream",
          "name": "stdout",
          "text": [
            "Hello World!\n"
          ]
        }
      ]
    },
    {
      "cell_type": "markdown",
      "source": [
        "8. 使用map"
      ],
      "metadata": {
        "id": "tx1g2rKUkbB-"
      }
    },
    {
      "cell_type": "code",
      "source": [
        "words = ['Hello', 'World!']\n",
        "print(' '.join(map(str, words)))"
      ],
      "metadata": {
        "colab": {
          "base_uri": "https://localhost:8080/"
        },
        "id": "vxQKSDJBkhJI",
        "outputId": "bba67d17-7892-4557-90ce-387c6a9cc295"
      },
      "execution_count": 8,
      "outputs": [
        {
          "output_type": "stream",
          "name": "stdout",
          "text": [
            "Hello World!\n"
          ]
        }
      ]
    },
    {
      "cell_type": "markdown",
      "source": [
        "9. 多行字符串"
      ],
      "metadata": {
        "id": "fLtb_miFkiGn"
      }
    },
    {
      "cell_type": "code",
      "source": [
        "print(\"\"\"\n",
        "Hello,\n",
        "World!\n",
        "\"\"\")"
      ],
      "metadata": {
        "colab": {
          "base_uri": "https://localhost:8080/"
        },
        "id": "dvXpjuickkEK",
        "outputId": "f6f28c54-5aef-4f4c-cf7f-f574ba1fc640"
      },
      "execution_count": 9,
      "outputs": [
        {
          "output_type": "stream",
          "name": "stdout",
          "text": [
            "\n",
            "Hello, \n",
            "World!\n",
            "\n"
          ]
        }
      ]
    },
    {
      "cell_type": "markdown",
      "source": [
        "10. 使用列表推导"
      ],
      "metadata": {
        "id": "9derD9aukllN"
      }
    },
    {
      "cell_type": "code",
      "source": [
        "chars = [char for char in \"Hello, World!\"]\n",
        "print(''.join(chars))"
      ],
      "metadata": {
        "colab": {
          "base_uri": "https://localhost:8080/"
        },
        "id": "7i7b2BlHknMr",
        "outputId": "0ad006ad-bcc5-4082-8582-c9cbac6a0109"
      },
      "execution_count": 10,
      "outputs": [
        {
          "output_type": "stream",
          "name": "stdout",
          "text": [
            "Hello, World!\n"
          ]
        }
      ]
    },
    {
      "cell_type": "markdown",
      "source": [
        "11. 使用字典"
      ],
      "metadata": {
        "id": "MzN_z5dlk_OW"
      }
    },
    {
      "cell_type": "code",
      "source": [
        "data = {'greeting': 'Hello', 'target': 'World'}\n",
        "print(f\"{data['greeting']}, {data['target']}!\")"
      ],
      "metadata": {
        "colab": {
          "base_uri": "https://localhost:8080/"
        },
        "id": "CUfBOiNxk0bq",
        "outputId": "ef06c738-ed2b-4d41-9487-1ae8e47d9207"
      },
      "execution_count": 11,
      "outputs": [
        {
          "output_type": "stream",
          "name": "stdout",
          "text": [
            "Hello, World!\n"
          ]
        }
      ]
    },
    {
      "cell_type": "markdown",
      "source": [
        "12. 通过lambda函数"
      ],
      "metadata": {
        "id": "yBoQt233lYoM"
      }
    },
    {
      "cell_type": "code",
      "source": [
        "print((lambda x: x)(\"Hello, World!\"))\n"
      ],
      "metadata": {
        "colab": {
          "base_uri": "https://localhost:8080/"
        },
        "id": "XAZ5JLwek-Ov",
        "outputId": "6ddc5ec7-7b98-4be2-8cac-e246afb0de0b"
      },
      "execution_count": 12,
      "outputs": [
        {
          "output_type": "stream",
          "name": "stdout",
          "text": [
            "Hello, World!\n"
          ]
        }
      ]
    },
    {
      "cell_type": "markdown",
      "source": [
        "13. 使用环境变量"
      ],
      "metadata": {
        "id": "Wn_u37frlfTX"
      }
    },
    {
      "cell_type": "code",
      "source": [
        "import os\n",
        "os.environ['HELLO'] = 'Hello, World!'\n",
        "print(os.getenv('HELLO'))\n"
      ],
      "metadata": {
        "colab": {
          "base_uri": "https://localhost:8080/"
        },
        "id": "1obPrqWak-VT",
        "outputId": "2145a15a-fd39-4b5a-fd2a-e4c685f81f75"
      },
      "execution_count": 13,
      "outputs": [
        {
          "output_type": "stream",
          "name": "stdout",
          "text": [
            "Hello, World!\n"
          ]
        }
      ]
    },
    {
      "cell_type": "markdown",
      "source": [
        "14. 读取文件"
      ],
      "metadata": {
        "id": "Sw7r0jG_lhVe"
      }
    },
    {
      "cell_type": "code",
      "source": [
        "with open('hello_world.txt', 'w') as f:\n",
        "    f.write('Hello, World!')\n",
        "with open('hello_world.txt', 'r') as f:\n",
        "    print(f.read())\n"
      ],
      "metadata": {
        "colab": {
          "base_uri": "https://localhost:8080/"
        },
        "id": "udyFNyCPk-ZT",
        "outputId": "58eb7eaf-9d5e-4853-8913-39b7f7de1848"
      },
      "execution_count": 14,
      "outputs": [
        {
          "output_type": "stream",
          "name": "stdout",
          "text": [
            "Hello, World!\n"
          ]
        }
      ]
    },
    {
      "cell_type": "markdown",
      "source": [
        "15. 使用exec"
      ],
      "metadata": {
        "id": "eXqEXZjuljgP"
      }
    },
    {
      "cell_type": "code",
      "source": [
        "exec(\"print('Hello, World!')\")"
      ],
      "metadata": {
        "colab": {
          "base_uri": "https://localhost:8080/"
        },
        "id": "_44DfioTk-co",
        "outputId": "d6f03e7b-2b01-4a4d-c25f-c8e5388a60d8"
      },
      "execution_count": 15,
      "outputs": [
        {
          "output_type": "stream",
          "name": "stdout",
          "text": [
            "Hello, World!\n"
          ]
        }
      ]
    },
    {
      "cell_type": "markdown",
      "source": [
        "16. 使用eval"
      ],
      "metadata": {
        "id": "BbU1I3NMlltf"
      }
    },
    {
      "cell_type": "code",
      "source": [
        "eval(\"print('Hello, World!')\")"
      ],
      "metadata": {
        "colab": {
          "base_uri": "https://localhost:8080/"
        },
        "id": "Nk6LsOvQk-jH",
        "outputId": "90f0527d-9744-4819-aa3a-916f4b5fbd2d"
      },
      "execution_count": 16,
      "outputs": [
        {
          "output_type": "stream",
          "name": "stdout",
          "text": [
            "Hello, World!\n"
          ]
        }
      ]
    },
    {
      "cell_type": "markdown",
      "source": [
        "17. 通过命令行"
      ],
      "metadata": {
        "id": "K3o4pooxlmXS"
      }
    },
    {
      "cell_type": "code",
      "source": [
        "import subprocess\n",
        "subprocess.run(['echo', 'Hello, World!'])"
      ],
      "metadata": {
        "colab": {
          "base_uri": "https://localhost:8080/"
        },
        "id": "fJB4wVo8k-mH",
        "outputId": "b5994bca-db87-4ae8-9314-d53c02099249"
      },
      "execution_count": 17,
      "outputs": [
        {
          "output_type": "execute_result",
          "data": {
            "text/plain": [
              "CompletedProcess(args=['echo', 'Hello, World!'], returncode=0)"
            ]
          },
          "metadata": {},
          "execution_count": 17
        }
      ]
    },
    {
      "cell_type": "markdown",
      "source": [
        "18. 递归打印（仅为演示，不推荐）"
      ],
      "metadata": {
        "id": "c7yIqOgylnxQ"
      }
    },
    {
      "cell_type": "code",
      "source": [
        "def recursive_print(count):\n",
        "    if count > 0:\n",
        "        print(\"Hello, World!\")\n",
        "        recursive_print(count - 1)\n",
        "recursive_print(1)"
      ],
      "metadata": {
        "colab": {
          "base_uri": "https://localhost:8080/"
        },
        "id": "zulq6wZrk-uC",
        "outputId": "66bd0646-a3dc-4c12-ea7b-64395d08920b"
      },
      "execution_count": 18,
      "outputs": [
        {
          "output_type": "stream",
          "name": "stdout",
          "text": [
            "Hello, World!\n"
          ]
        }
      ]
    },
    {
      "cell_type": "markdown",
      "source": [
        "19. 使用生成器"
      ],
      "metadata": {
        "id": "N0IrUUtwlryV"
      }
    },
    {
      "cell_type": "code",
      "source": [
        "def generate_hello():\n",
        "    yield \"Hello, World!\"\n",
        "for greeting in generate_hello():\n",
        "    print(greeting)"
      ],
      "metadata": {
        "colab": {
          "base_uri": "https://localhost:8080/"
        },
        "id": "IuVVLdlJk-3W",
        "outputId": "e77bcf66-5591-4aed-8bcc-ad7dd0e61aaf"
      },
      "execution_count": 20,
      "outputs": [
        {
          "output_type": "stream",
          "name": "stdout",
          "text": [
            "Hello, World!\n"
          ]
        }
      ]
    },
    {
      "cell_type": "markdown",
      "source": [
        "20. 利用异常"
      ],
      "metadata": {
        "id": "yb58JSinltyb"
      }
    },
    {
      "cell_type": "code",
      "source": [
        "try:\n",
        "    raise Exception(\"Hello, World!\")\n",
        "except Exception as e:\n",
        "    print(e)"
      ],
      "metadata": {
        "colab": {
          "base_uri": "https://localhost:8080/"
        },
        "id": "pdXxOFfZlOT9",
        "outputId": "ebc718d7-98a6-4ad1-90f5-b5cd54927f54"
      },
      "execution_count": 21,
      "outputs": [
        {
          "output_type": "stream",
          "name": "stdout",
          "text": [
            "Hello, World!\n"
          ]
        }
      ]
    },
    {
      "cell_type": "code",
      "source": [],
      "metadata": {
        "id": "emA6R7npmMih"
      },
      "execution_count": null,
      "outputs": []
    }
  ]
}